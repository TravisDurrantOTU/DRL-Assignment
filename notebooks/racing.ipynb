{
 "cells": [
  {
   "cell_type": "markdown",
   "id": "574cd26b",
   "metadata": {},
   "source": [
    "### Racing Game Analysis\n",
    "\n",
    "What follows will be an analysis of peformance, training, and various other metrics with regards to the racing game environment.\n",
    "\n",
    "Note that the models we will be speaking of have already been trained, and the metrics pregenerated."
   ]
  },
  {
   "cell_type": "code",
   "execution_count": 29,
   "id": "11ec2baf",
   "metadata": {},
   "outputs": [
    {
     "name": "stdout",
     "output_type": "stream",
     "text": [
      "d:\\Downloads\\drl-assign1\\DRL-Assignment\\notebooks\n"
     ]
    }
   ],
   "source": [
    "import sys, os\n",
    "print(os.getcwd())"
   ]
  },
  {
   "cell_type": "code",
   "execution_count": 30,
   "id": "c2c79312",
   "metadata": {},
   "outputs": [
    {
     "ename": "AttributeError",
     "evalue": "'RcParams' object has no attribute '_get'",
     "output_type": "error",
     "traceback": [
      "\u001b[1;31m---------------------------------------------------------------------------\u001b[0m",
      "\u001b[1;31mAttributeError\u001b[0m                            Traceback (most recent call last)",
      "Cell \u001b[1;32mIn[30], line 1\u001b[0m\n\u001b[1;32m----> 1\u001b[0m \u001b[38;5;28;01mimport\u001b[39;00m\u001b[38;5;250m \u001b[39m\u001b[38;5;21;01mmatplotlib\u001b[39;00m\u001b[38;5;241m,\u001b[39m\u001b[38;5;250m \u001b[39m\u001b[38;5;21;01mmatplotlib_inline\u001b[39;00m\u001b[38;5;241m,\u001b[39m\u001b[38;5;250m \u001b[39m\u001b[38;5;21;01mIPython\u001b[39;00m\n\u001b[0;32m      2\u001b[0m \u001b[38;5;28mprint\u001b[39m(\u001b[38;5;124m\"\u001b[39m\u001b[38;5;124mmatplotlib:\u001b[39m\u001b[38;5;124m\"\u001b[39m, matplotlib\u001b[38;5;241m.\u001b[39m__version__)\n\u001b[0;32m      3\u001b[0m \u001b[38;5;28mprint\u001b[39m(\u001b[38;5;124m\"\u001b[39m\u001b[38;5;124mmatplotlib_inline:\u001b[39m\u001b[38;5;124m\"\u001b[39m, matplotlib_inline\u001b[38;5;241m.\u001b[39m__version__)\n",
      "File \u001b[1;32m~\\AppData\\Roaming\\Python\\Python310\\site-packages\\matplotlib_inline\\__init__.py:1\u001b[0m\n\u001b[1;32m----> 1\u001b[0m \u001b[39mfrom\u001b[39;00m\u001b[39m \u001b[39m\u001b[39m.\u001b[39;00m\u001b[39m \u001b[39m\u001b[39mimport\u001b[39;00m backend_inline, config  \u001b[39m# noqa\u001b[39;00m\n\u001b[0;32m      3\u001b[0m __version__ \u001b[39m=\u001b[39m \u001b[39m\"\u001b[39m\u001b[39m0.2.1\u001b[39m\u001b[39m\"\u001b[39m\n\u001b[0;32m      5\u001b[0m \u001b[39m# we can't ''.join(...) otherwise finding the version number at build time requires\u001b[39;00m\n\u001b[0;32m      6\u001b[0m \u001b[39m# import which introduces IPython and matplotlib at build time, and thus circular\u001b[39;00m\n\u001b[0;32m      7\u001b[0m \u001b[39m# dependencies.\u001b[39;00m\n",
      "File \u001b[1;32m~\\AppData\\Roaming\\Python\\Python310\\site-packages\\matplotlib_inline\\backend_inline.py:236\u001b[0m\n\u001b[0;32m    231\u001b[0m                 ip\u001b[39m.\u001b[39mevents\u001b[39m.\u001b[39munregister(\u001b[39m\"\u001b[39m\u001b[39mpost_run_cell\u001b[39m\u001b[39m\"\u001b[39m, configure_once)\n\u001b[0;32m    233\u001b[0m             ip\u001b[39m.\u001b[39mevents\u001b[39m.\u001b[39mregister(\u001b[39m\"\u001b[39m\u001b[39mpost_run_cell\u001b[39m\u001b[39m\"\u001b[39m, configure_once)\n\u001b[1;32m--> 236\u001b[0m _enable_matplotlib_integration()\n\u001b[0;32m    239\u001b[0m \u001b[39mdef\u001b[39;00m\u001b[39m \u001b[39m\u001b[39m_fetch_figure_metadata\u001b[39m(fig):\n\u001b[0;32m    240\u001b[0m \u001b[39m    \u001b[39m\u001b[39m\"\"\"Get some metadata to help with displaying a figure.\"\"\"\u001b[39;00m\n",
      "File \u001b[1;32m~\\AppData\\Roaming\\Python\\Python310\\site-packages\\matplotlib_inline\\backend_inline.py:218\u001b[0m, in \u001b[0;36m_enable_matplotlib_integration\u001b[1;34m()\u001b[0m\n\u001b[0;32m    216\u001b[0m     backend \u001b[39m=\u001b[39m matplotlib\u001b[39m.\u001b[39mget_backend(auto_select\u001b[39m=\u001b[39m\u001b[39mFalse\u001b[39;00m)\n\u001b[0;32m    217\u001b[0m \u001b[39melse\u001b[39;00m:\n\u001b[1;32m--> 218\u001b[0m     backend \u001b[39m=\u001b[39m matplotlib\u001b[39m.\u001b[39;49mrcParams\u001b[39m.\u001b[39;49m_get(\u001b[39m\"\u001b[39m\u001b[39mbackend\u001b[39m\u001b[39m\"\u001b[39m)\n\u001b[0;32m    220\u001b[0m \u001b[39mif\u001b[39;00m ip \u001b[39mand\u001b[39;00m backend \u001b[39min\u001b[39;00m (\u001b[39m\"\u001b[39m\u001b[39minline\u001b[39m\u001b[39m\"\u001b[39m, \u001b[39m\"\u001b[39m\u001b[39mmodule://matplotlib_inline.backend_inline\u001b[39m\u001b[39m\"\u001b[39m):\n\u001b[0;32m    221\u001b[0m     \u001b[39mfrom\u001b[39;00m\u001b[39m \u001b[39m\u001b[39mIPython\u001b[39;00m\u001b[39m.\u001b[39;00m\u001b[39mcore\u001b[39;00m\u001b[39m.\u001b[39;00m\u001b[39mpylabtools\u001b[39;00m\u001b[39m \u001b[39m\u001b[39mimport\u001b[39;00m activate_matplotlib\n",
      "\u001b[1;31mAttributeError\u001b[0m: 'RcParams' object has no attribute '_get'"
     ]
    }
   ],
   "source": [
    "import matplotlib, matplotlib_inline, IPython\n",
    "print(\"matplotlib:\", matplotlib.__version__)\n",
    "print(\"matplotlib_inline:\", matplotlib_inline.__version__)\n",
    "print(\"IPython:\", IPython.__version__)"
   ]
  },
  {
   "cell_type": "code",
   "execution_count": 20,
   "id": "ef589a0f",
   "metadata": {},
   "outputs": [],
   "source": [
    "# Importing relevant libraries\n",
    "import sys, os\n",
    "import matplotlib.pyplot as plt\n",
    "\n",
    "racing_dir = os.path.abspath(os.path.join(os.getcwd(), \"..\", \"envs\", \"racing_game\"))\n",
    "target_dir = os.path.abspath(os.path.join(os.getcwd(), \"..\", \"envs\", \"target_game\"))\n",
    "sys.path.append(racing_dir)\n",
    "from racing_env import RacingEnv\n",
    "sys.path.append(target_dir)\n",
    "from target_env import TargetEnv\n",
    "\n",
    "train_dir = os.path.abspath(os.path.join(os.getcwd(), '..', 'src'))\n",
    "sys.path.append(train_dir)\n",
    "from test_models import SACTester, PPOTester, DDPGTester, A2CTester"
   ]
  },
  {
   "cell_type": "code",
   "execution_count": 21,
   "id": "1b853348",
   "metadata": {},
   "outputs": [],
   "source": [
    "# Creating needed objects\n",
    "renv = RacingEnv()\n",
    "s = SACTester('pretrained_SAC_racing.pt', renv)\n",
    "p = PPOTester('pretrained_PPO_racing.pt', renv)\n",
    "d = DDPGTester('pretrained_DDPG_racing.pt', renv)\n",
    "a = A2CTester('pretrained_A2C_racing.pt', renv)"
   ]
  },
  {
   "cell_type": "markdown",
   "id": "ef0c0f17",
   "metadata": {},
   "source": [
    "Unfortunately, a jupyter notebook doesn't seem to be able to actually render pygame. We'll settle for collecting data on how the agents play, and you can observe them playing elsewhere. Note that this script takes an absolutely ungodly amount of time to run because jupyter notebooks suck, so we're sticking to ten episodes and noting that this means data may be subject to more noise."
   ]
  },
  {
   "cell_type": "code",
   "execution_count": 22,
   "id": "20971ecf",
   "metadata": {},
   "outputs": [
    {
     "name": "stdout",
     "output_type": "stream",
     "text": [
      "Episode 1 finished: total reward = 2856.25\n",
      "Episode 2 finished: total reward = 3999.17\n",
      "Episode 3 finished: total reward = 2883.82\n",
      "Episode 4 finished: total reward = 2865.96\n",
      "Episode 5 finished: total reward = 2859.63\n",
      "Episode 6 finished: total reward = 2872.17\n",
      "Episode 7 finished: total reward = 3634.52\n",
      "Episode 8 finished: total reward = 4093.67\n",
      "Episode 9 finished: total reward = 2873.45\n",
      "Episode 10 finished: total reward = 2858.68\n",
      "Episode 1 finished: total reward = 3020.23\n",
      "Episode 2 finished: total reward = 3073.19\n",
      "Episode 3 finished: total reward = 3022.04\n",
      "Episode 4 finished: total reward = 3012.55\n",
      "Episode 5 finished: total reward = 2992.65\n",
      "Episode 6 finished: total reward = 3029.55\n",
      "Episode 7 finished: total reward = 3009.03\n",
      "Episode 8 finished: total reward = 3059.42\n",
      "Episode 9 finished: total reward = 2981.32\n",
      "Episode 10 finished: total reward = 3035.19\n",
      "Episode 1 finished: total reward = 2903.43\n",
      "Episode 2 finished: total reward = 2903.43\n",
      "Episode 3 finished: total reward = 2903.43\n",
      "Episode 4 finished: total reward = 2903.43\n",
      "Episode 5 finished: total reward = 2903.43\n",
      "Episode 6 finished: total reward = 2903.43\n",
      "Episode 7 finished: total reward = 2903.43\n",
      "Episode 8 finished: total reward = 2903.43\n",
      "Episode 9 finished: total reward = 2903.43\n",
      "Episode 10 finished: total reward = 2903.43\n",
      "Episode 1 finished: total reward = 2577.75\n",
      "Episode 2 finished: total reward = 2577.75\n",
      "Episode 3 finished: total reward = 2577.75\n",
      "Episode 4 finished: total reward = 2577.75\n",
      "Episode 5 finished: total reward = 2577.75\n",
      "Episode 6 finished: total reward = 2577.75\n",
      "Episode 7 finished: total reward = 2577.75\n",
      "Episode 8 finished: total reward = 2577.75\n",
      "Episode 9 finished: total reward = 2577.75\n",
      "Episode 10 finished: total reward = 2577.75\n"
     ]
    }
   ],
   "source": [
    "ppo_res = p.test(n_episodes=10, visual=False)\n",
    "sac_res = s.test(n_episodes=10, visual=False)\n",
    "ddpg_res = d.test(n_episodes=10, visual=False)\n",
    "a2c_res = a.test(n_episodes=10, visual=False)"
   ]
  },
  {
   "cell_type": "code",
   "execution_count": 23,
   "id": "c1a6cb7f",
   "metadata": {},
   "outputs": [],
   "source": [
    "#print(ppo_res)"
   ]
  },
  {
   "cell_type": "code",
   "execution_count": 24,
   "id": "02e820c8",
   "metadata": {},
   "outputs": [],
   "source": [
    "episode_infos = ppo_res[1]\n",
    "\n",
    "# Find the maximum number of steps among all episodes\n",
    "max_steps = max(len(ep) for ep in episode_infos)\n",
    "\n",
    "mean_positions = []\n",
    "for step_idx in range(max_steps):\n",
    "    sum_pos = [0.0, 0.0]\n",
    "    count = 0\n",
    "\n",
    "    for ep in episode_infos:\n",
    "        if step_idx < len(ep):\n",
    "            stepinfo = ep[step_idx]\n",
    "            try:\n",
    "                position = stepinfo['car_position']\n",
    "                sum_pos[0] += position[0]\n",
    "                sum_pos[1] += position[1]\n",
    "                count += 1\n",
    "            except KeyError:\n",
    "                pass\n",
    "\n",
    "    if count > 0:\n",
    "        mean_positions.append([sum_pos[0] / count, sum_pos[1] / count])\n",
    "    else:\n",
    "        mean_positions.append([None, None])  # or skip, depending on your needs\n",
    "\n",
    "# print(mean_positions)"
   ]
  },
  {
   "cell_type": "code",
   "execution_count": 25,
   "id": "0c3acaac",
   "metadata": {},
   "outputs": [],
   "source": [
    "episode_infos = sac_res[1]\n",
    "\n",
    "# Find the maximum number of steps among all episodes\n",
    "max_steps = max(len(ep) for ep in episode_infos)\n",
    "\n",
    "mean_positions2 = []\n",
    "for step_idx in range(max_steps):\n",
    "    sum_pos = [0.0, 0.0]\n",
    "    count = 0\n",
    "\n",
    "    for ep in episode_infos:\n",
    "        if step_idx < len(ep):\n",
    "            stepinfo = ep[step_idx]\n",
    "            try:\n",
    "                position = stepinfo['car_position']\n",
    "                sum_pos[0] += position[0]\n",
    "                sum_pos[1] += position[1]\n",
    "                count += 1\n",
    "            except KeyError:\n",
    "                pass\n",
    "\n",
    "    if count > 0:\n",
    "        mean_positions2.append([sum_pos[0] / count, sum_pos[1] / count])\n",
    "    else:\n",
    "        mean_positions2.append([None, None])  # or skip, depending on your needs\n",
    "\n",
    "#print(mean_positions2)\n"
   ]
  },
  {
   "cell_type": "code",
   "execution_count": 26,
   "id": "3fc76730",
   "metadata": {},
   "outputs": [],
   "source": [
    "episode_infos = ddpg_res[1]\n",
    "\n",
    "# Find the maximum number of steps among all episodes\n",
    "max_steps = max(len(ep) for ep in episode_infos)\n",
    "\n",
    "mean_positions3 = []\n",
    "for step_idx in range(max_steps):\n",
    "    sum_pos = [0.0, 0.0]\n",
    "    count = 0\n",
    "\n",
    "    for ep in episode_infos:\n",
    "        if step_idx < len(ep):\n",
    "            stepinfo = ep[step_idx]\n",
    "            try:\n",
    "                position = stepinfo['car_position']\n",
    "                sum_pos[0] += position[0]\n",
    "                sum_pos[1] += position[1]\n",
    "                count += 1\n",
    "            except KeyError:\n",
    "                pass\n",
    "\n",
    "    if count > 0:\n",
    "        mean_positions3.append([sum_pos[0] / count, sum_pos[1] / count])\n",
    "    else:\n",
    "        mean_positions3.append([None, None])  # or skip, depending on your needs\n",
    "\n",
    "#print(mean_positions2)"
   ]
  },
  {
   "cell_type": "code",
   "execution_count": 27,
   "id": "eef42b16",
   "metadata": {},
   "outputs": [],
   "source": [
    "episode_infos = a2c_res[1]\n",
    "\n",
    "# Find the maximum number of steps among all episodes\n",
    "max_steps = max(len(ep) for ep in episode_infos)\n",
    "\n",
    "mean_positions4 = []\n",
    "for step_idx in range(max_steps):\n",
    "    sum_pos = [0.0, 0.0]\n",
    "    count = 0\n",
    "\n",
    "    for ep in episode_infos:\n",
    "        if step_idx < len(ep):\n",
    "            stepinfo = ep[step_idx]\n",
    "            try:\n",
    "                position = stepinfo['car_position']\n",
    "                sum_pos[0] += position[0]\n",
    "                sum_pos[1] += position[1]\n",
    "                count += 1\n",
    "            except KeyError:\n",
    "                pass\n",
    "\n",
    "    if count > 0:\n",
    "        mean_positions4.append([sum_pos[0] / count, sum_pos[1] / count])\n",
    "    else:\n",
    "        mean_positions4.append([None, None])  # or skip, depending on your needs\n",
    "\n",
    "#print(mean_positions2)"
   ]
  },
  {
   "cell_type": "code",
   "execution_count": 28,
   "id": "60f2d04e",
   "metadata": {},
   "outputs": [
    {
     "ename": "AttributeError",
     "evalue": "'RcParams' object has no attribute '_get'",
     "output_type": "error",
     "traceback": [
      "\u001b[1;31m---------------------------------------------------------------------------\u001b[0m",
      "\u001b[1;31mAttributeError\u001b[0m                            Traceback (most recent call last)",
      "Cell \u001b[1;32mIn[28], line 3\u001b[0m\n\u001b[0;32m      1\u001b[0m x \u001b[38;5;241m=\u001b[39m [point[\u001b[38;5;241m0\u001b[39m] \u001b[38;5;28;01mfor\u001b[39;00m point \u001b[38;5;129;01min\u001b[39;00m mean_positions]\n\u001b[0;32m      2\u001b[0m y \u001b[38;5;241m=\u001b[39m [\u001b[38;5;241m-\u001b[39mpoint[\u001b[38;5;241m1\u001b[39m] \u001b[38;5;28;01mfor\u001b[39;00m point \u001b[38;5;129;01min\u001b[39;00m mean_positions] \u001b[38;5;66;03m# because of how pygame handles position\u001b[39;00m\n\u001b[1;32m----> 3\u001b[0m \u001b[43mplt\u001b[49m\u001b[38;5;241;43m.\u001b[39;49m\u001b[43mscatter\u001b[49m\u001b[43m(\u001b[49m\u001b[43mx\u001b[49m\u001b[43m,\u001b[49m\u001b[43m \u001b[49m\u001b[43my\u001b[49m\u001b[43m)\u001b[49m\n\u001b[0;32m      4\u001b[0m plt\u001b[38;5;241m.\u001b[39mshow()\n",
      "File \u001b[1;32mc:\\Users\\Travis\\AppData\\Local\\Programs\\Python\\Python310\\lib\\site-packages\\matplotlib\\pyplot.py:2778\u001b[0m, in \u001b[0;36mscatter\u001b[1;34m(x, y, s, c, marker, cmap, norm, vmin, vmax, alpha, linewidths, edgecolors, plotnonfinite, data, **kwargs)\u001b[0m\n\u001b[0;32m   2773\u001b[0m \u001b[39m@_copy_docstring_and_deprecators\u001b[39m(Axes\u001b[39m.\u001b[39mscatter)\n\u001b[0;32m   2774\u001b[0m \u001b[39mdef\u001b[39;00m\u001b[39m \u001b[39m\u001b[39mscatter\u001b[39m(\n\u001b[0;32m   2775\u001b[0m         x, y, s\u001b[39m=\u001b[39m\u001b[39mNone\u001b[39;00m, c\u001b[39m=\u001b[39m\u001b[39mNone\u001b[39;00m, marker\u001b[39m=\u001b[39m\u001b[39mNone\u001b[39;00m, cmap\u001b[39m=\u001b[39m\u001b[39mNone\u001b[39;00m, norm\u001b[39m=\u001b[39m\u001b[39mNone\u001b[39;00m,\n\u001b[0;32m   2776\u001b[0m         vmin\u001b[39m=\u001b[39m\u001b[39mNone\u001b[39;00m, vmax\u001b[39m=\u001b[39m\u001b[39mNone\u001b[39;00m, alpha\u001b[39m=\u001b[39m\u001b[39mNone\u001b[39;00m, linewidths\u001b[39m=\u001b[39m\u001b[39mNone\u001b[39;00m, \u001b[39m*\u001b[39m,\n\u001b[0;32m   2777\u001b[0m         edgecolors\u001b[39m=\u001b[39m\u001b[39mNone\u001b[39;00m, plotnonfinite\u001b[39m=\u001b[39m\u001b[39mFalse\u001b[39;00m, data\u001b[39m=\u001b[39m\u001b[39mNone\u001b[39;00m, \u001b[39m*\u001b[39m\u001b[39m*\u001b[39mkwargs):\n\u001b[1;32m-> 2778\u001b[0m     __ret \u001b[39m=\u001b[39m gca()\u001b[39m.\u001b[39mscatter(\n\u001b[0;32m   2779\u001b[0m         x, y, s\u001b[39m=\u001b[39ms, c\u001b[39m=\u001b[39mc, marker\u001b[39m=\u001b[39mmarker, cmap\u001b[39m=\u001b[39mcmap, norm\u001b[39m=\u001b[39mnorm,\n\u001b[0;32m   2780\u001b[0m         vmin\u001b[39m=\u001b[39mvmin, vmax\u001b[39m=\u001b[39mvmax, alpha\u001b[39m=\u001b[39malpha, linewidths\u001b[39m=\u001b[39mlinewidths,\n\u001b[0;32m   2781\u001b[0m         edgecolors\u001b[39m=\u001b[39medgecolors, plotnonfinite\u001b[39m=\u001b[39mplotnonfinite,\n\u001b[0;32m   2782\u001b[0m         \u001b[39m*\u001b[39m\u001b[39m*\u001b[39m({\u001b[39m\"\u001b[39m\u001b[39mdata\u001b[39m\u001b[39m\"\u001b[39m: data} \u001b[39mif\u001b[39;00m data \u001b[39mis\u001b[39;00m \u001b[39mnot\u001b[39;00m \u001b[39mNone\u001b[39;00m \u001b[39melse\u001b[39;00m {}), \u001b[39m*\u001b[39m\u001b[39m*\u001b[39mkwargs)\n\u001b[0;32m   2783\u001b[0m     sci(__ret)\n\u001b[0;32m   2784\u001b[0m     \u001b[39mreturn\u001b[39;00m __ret\n",
      "File \u001b[1;32mc:\\Users\\Travis\\AppData\\Local\\Programs\\Python\\Python310\\lib\\site-packages\\matplotlib\\pyplot.py:2225\u001b[0m, in \u001b[0;36mgca\u001b[1;34m()\u001b[0m\n\u001b[0;32m   2223\u001b[0m \u001b[39m@_copy_docstring_and_deprecators\u001b[39m(Figure\u001b[39m.\u001b[39mgca)\n\u001b[0;32m   2224\u001b[0m \u001b[39mdef\u001b[39;00m\u001b[39m \u001b[39m\u001b[39mgca\u001b[39m():\n\u001b[1;32m-> 2225\u001b[0m     \u001b[39mreturn\u001b[39;00m gcf()\u001b[39m.\u001b[39mgca()\n",
      "File \u001b[1;32mc:\\Users\\Travis\\AppData\\Local\\Programs\\Python\\Python310\\lib\\site-packages\\matplotlib\\pyplot.py:830\u001b[0m, in \u001b[0;36mgcf\u001b[1;34m()\u001b[0m\n\u001b[0;32m    828\u001b[0m     \u001b[39mreturn\u001b[39;00m manager\u001b[39m.\u001b[39mcanvas\u001b[39m.\u001b[39mfigure\n\u001b[0;32m    829\u001b[0m \u001b[39melse\u001b[39;00m:\n\u001b[1;32m--> 830\u001b[0m     \u001b[39mreturn\u001b[39;00m figure()\n",
      "File \u001b[1;32mc:\\Users\\Travis\\AppData\\Local\\Programs\\Python\\Python310\\lib\\site-packages\\matplotlib\\_api\\deprecation.py:454\u001b[0m, in \u001b[0;36mmake_keyword_only.<locals>.wrapper\u001b[1;34m(*args, **kwargs)\u001b[0m\n\u001b[0;32m    448\u001b[0m \u001b[39mif\u001b[39;00m \u001b[39mlen\u001b[39m(args) \u001b[39m>\u001b[39m name_idx:\n\u001b[0;32m    449\u001b[0m     warn_deprecated(\n\u001b[0;32m    450\u001b[0m         since, message\u001b[39m=\u001b[39m\u001b[39m\"\u001b[39m\u001b[39mPassing the \u001b[39m\u001b[39m%(name)s\u001b[39;00m\u001b[39m \u001b[39m\u001b[39m%(obj_type)s\u001b[39;00m\u001b[39m \u001b[39m\u001b[39m\"\u001b[39m\n\u001b[0;32m    451\u001b[0m         \u001b[39m\"\u001b[39m\u001b[39mpositionally is deprecated since Matplotlib \u001b[39m\u001b[39m%(since)s\u001b[39;00m\u001b[39m; the \u001b[39m\u001b[39m\"\u001b[39m\n\u001b[0;32m    452\u001b[0m         \u001b[39m\"\u001b[39m\u001b[39mparameter will become keyword-only \u001b[39m\u001b[39m%(removal)s\u001b[39;00m\u001b[39m.\u001b[39m\u001b[39m\"\u001b[39m,\n\u001b[0;32m    453\u001b[0m         name\u001b[39m=\u001b[39mname, obj_type\u001b[39m=\u001b[39m\u001b[39mf\u001b[39m\u001b[39m\"\u001b[39m\u001b[39mparameter of \u001b[39m\u001b[39m{\u001b[39;00mfunc\u001b[39m.\u001b[39m\u001b[39m__name__\u001b[39m\u001b[39m}\u001b[39;00m\u001b[39m()\u001b[39m\u001b[39m\"\u001b[39m)\n\u001b[1;32m--> 454\u001b[0m \u001b[39mreturn\u001b[39;00m func(\u001b[39m*\u001b[39margs, \u001b[39m*\u001b[39m\u001b[39m*\u001b[39mkwargs)\n",
      "File \u001b[1;32mc:\\Users\\Travis\\AppData\\Local\\Programs\\Python\\Python310\\lib\\site-packages\\matplotlib\\pyplot.py:771\u001b[0m, in \u001b[0;36mfigure\u001b[1;34m(num, figsize, dpi, facecolor, edgecolor, frameon, FigureClass, clear, **kwargs)\u001b[0m\n\u001b[0;32m    761\u001b[0m \u001b[39mif\u001b[39;00m \u001b[39mlen\u001b[39m(allnums) \u001b[39m==\u001b[39m max_open_warning \u001b[39m>\u001b[39m\u001b[39m=\u001b[39m \u001b[39m1\u001b[39m:\n\u001b[0;32m    762\u001b[0m     _api\u001b[39m.\u001b[39mwarn_external(\n\u001b[0;32m    763\u001b[0m         \u001b[39mf\u001b[39m\u001b[39m\"\u001b[39m\u001b[39mMore than \u001b[39m\u001b[39m{\u001b[39;00mmax_open_warning\u001b[39m}\u001b[39;00m\u001b[39m figures have been opened. \u001b[39m\u001b[39m\"\u001b[39m\n\u001b[0;32m    764\u001b[0m         \u001b[39mf\u001b[39m\u001b[39m\"\u001b[39m\u001b[39mFigures created through the pyplot interface \u001b[39m\u001b[39m\"\u001b[39m\n\u001b[1;32m   (...)\u001b[0m\n\u001b[0;32m    768\u001b[0m         \u001b[39mf\u001b[39m\u001b[39m\"\u001b[39m\u001b[39mConsider using `matplotlib.pyplot.close()`.\u001b[39m\u001b[39m\"\u001b[39m,\n\u001b[0;32m    769\u001b[0m         \u001b[39mRuntimeWarning\u001b[39;00m)\n\u001b[1;32m--> 771\u001b[0m manager \u001b[39m=\u001b[39m new_figure_manager(\n\u001b[0;32m    772\u001b[0m     num, figsize\u001b[39m=\u001b[39mfigsize, dpi\u001b[39m=\u001b[39mdpi,\n\u001b[0;32m    773\u001b[0m     facecolor\u001b[39m=\u001b[39mfacecolor, edgecolor\u001b[39m=\u001b[39medgecolor, frameon\u001b[39m=\u001b[39mframeon,\n\u001b[0;32m    774\u001b[0m     FigureClass\u001b[39m=\u001b[39mFigureClass, \u001b[39m*\u001b[39m\u001b[39m*\u001b[39mkwargs)\n\u001b[0;32m    775\u001b[0m fig \u001b[39m=\u001b[39m manager\u001b[39m.\u001b[39mcanvas\u001b[39m.\u001b[39mfigure\n\u001b[0;32m    776\u001b[0m \u001b[39mif\u001b[39;00m fig_label:\n",
      "File \u001b[1;32mc:\\Users\\Travis\\AppData\\Local\\Programs\\Python\\Python310\\lib\\site-packages\\matplotlib\\pyplot.py:346\u001b[0m, in \u001b[0;36mnew_figure_manager\u001b[1;34m(*args, **kwargs)\u001b[0m\n\u001b[0;32m    344\u001b[0m \u001b[39mdef\u001b[39;00m\u001b[39m \u001b[39m\u001b[39mnew_figure_manager\u001b[39m(\u001b[39m*\u001b[39margs, \u001b[39m*\u001b[39m\u001b[39m*\u001b[39mkwargs):\n\u001b[0;32m    345\u001b[0m \u001b[39m    \u001b[39m\u001b[39m\"\"\"Create a new figure manager instance.\"\"\"\u001b[39;00m\n\u001b[1;32m--> 346\u001b[0m     _warn_if_gui_out_of_main_thread()\n\u001b[0;32m    347\u001b[0m     \u001b[39mreturn\u001b[39;00m _get_backend_mod()\u001b[39m.\u001b[39mnew_figure_manager(\u001b[39m*\u001b[39margs, \u001b[39m*\u001b[39m\u001b[39m*\u001b[39mkwargs)\n",
      "File \u001b[1;32mc:\\Users\\Travis\\AppData\\Local\\Programs\\Python\\Python310\\lib\\site-packages\\matplotlib\\pyplot.py:336\u001b[0m, in \u001b[0;36m_warn_if_gui_out_of_main_thread\u001b[1;34m()\u001b[0m\n\u001b[0;32m    332\u001b[0m \u001b[39mdef\u001b[39;00m\u001b[39m \u001b[39m\u001b[39m_warn_if_gui_out_of_main_thread\u001b[39m():\n\u001b[0;32m    333\u001b[0m     \u001b[39m# This compares native thread ids because even if python-level Thread\u001b[39;00m\n\u001b[0;32m    334\u001b[0m     \u001b[39m# objects match, the underlying OS thread (which is what really matters)\u001b[39;00m\n\u001b[0;32m    335\u001b[0m     \u001b[39m# may be different on Python implementations with green threads.\u001b[39;00m\n\u001b[1;32m--> 336\u001b[0m     \u001b[39mif\u001b[39;00m (_get_required_interactive_framework(_get_backend_mod()) \u001b[39mand\u001b[39;00m\n\u001b[0;32m    337\u001b[0m             threading\u001b[39m.\u001b[39mget_native_id() \u001b[39m!=\u001b[39m threading\u001b[39m.\u001b[39mmain_thread()\u001b[39m.\u001b[39mnative_id):\n\u001b[0;32m    338\u001b[0m         _api\u001b[39m.\u001b[39mwarn_external(\n\u001b[0;32m    339\u001b[0m             \u001b[39m\"\u001b[39m\u001b[39mStarting a Matplotlib GUI outside of the main thread will likely \u001b[39m\u001b[39m\"\u001b[39m\n\u001b[0;32m    340\u001b[0m             \u001b[39m\"\u001b[39m\u001b[39mfail.\u001b[39m\u001b[39m\"\u001b[39m)\n",
      "File \u001b[1;32mc:\\Users\\Travis\\AppData\\Local\\Programs\\Python\\Python310\\lib\\site-packages\\matplotlib\\pyplot.py:206\u001b[0m, in \u001b[0;36m_get_backend_mod\u001b[1;34m()\u001b[0m\n\u001b[0;32m    197\u001b[0m \u001b[39m\u001b[39m\u001b[39m\"\"\"\u001b[39;00m\n\u001b[0;32m    198\u001b[0m \u001b[39mEnsure that a backend is selected and return it.\u001b[39;00m\n\u001b[0;32m    199\u001b[0m \n\u001b[0;32m    200\u001b[0m \u001b[39mThis is currently private, but may be made public in the future.\u001b[39;00m\n\u001b[0;32m    201\u001b[0m \u001b[39m\"\"\"\u001b[39;00m\n\u001b[0;32m    202\u001b[0m \u001b[39mif\u001b[39;00m _backend_mod \u001b[39mis\u001b[39;00m \u001b[39mNone\u001b[39;00m:\n\u001b[0;32m    203\u001b[0m     \u001b[39m# Use __getitem__ here to avoid going through the fallback logic (which\u001b[39;00m\n\u001b[0;32m    204\u001b[0m     \u001b[39m# will (re)import pyplot and then call switch_backend if we need to\u001b[39;00m\n\u001b[0;32m    205\u001b[0m     \u001b[39m# resolve the auto sentinel)\u001b[39;00m\n\u001b[1;32m--> 206\u001b[0m     switch_backend(\u001b[39mdict\u001b[39;49m\u001b[39m.\u001b[39;49m\u001b[39m__getitem__\u001b[39;49m(rcParams, \u001b[39m\"\u001b[39;49m\u001b[39mbackend\u001b[39;49m\u001b[39m\"\u001b[39;49m))\n\u001b[0;32m    207\u001b[0m \u001b[39mreturn\u001b[39;00m _backend_mod\n",
      "File \u001b[1;32mc:\\Users\\Travis\\AppData\\Local\\Programs\\Python\\Python310\\lib\\site-packages\\matplotlib\\pyplot.py:264\u001b[0m, in \u001b[0;36mswitch_backend\u001b[1;34m(newbackend)\u001b[0m\n\u001b[0;32m    261\u001b[0m         rcParamsOrig[\u001b[39m\"\u001b[39m\u001b[39mbackend\u001b[39m\u001b[39m\"\u001b[39m] \u001b[39m=\u001b[39m \u001b[39m\"\u001b[39m\u001b[39magg\u001b[39m\u001b[39m\"\u001b[39m\n\u001b[0;32m    262\u001b[0m         \u001b[39mreturn\u001b[39;00m\n\u001b[1;32m--> 264\u001b[0m backend_mod \u001b[39m=\u001b[39m importlib\u001b[39m.\u001b[39;49mimport_module(\n\u001b[0;32m    265\u001b[0m     cbook\u001b[39m.\u001b[39;49m_backend_module_name(newbackend))\n\u001b[0;32m    266\u001b[0m canvas_class \u001b[39m=\u001b[39m backend_mod\u001b[39m.\u001b[39mFigureCanvas\n\u001b[0;32m    268\u001b[0m required_framework \u001b[39m=\u001b[39m _get_required_interactive_framework(backend_mod)\n",
      "File \u001b[1;32mc:\\Users\\Travis\\AppData\\Local\\Programs\\Python\\Python310\\lib\\importlib\\__init__.py:126\u001b[0m, in \u001b[0;36mimport_module\u001b[1;34m(name, package)\u001b[0m\n\u001b[0;32m    124\u001b[0m             \u001b[39mbreak\u001b[39;00m\n\u001b[0;32m    125\u001b[0m         level \u001b[39m+\u001b[39m\u001b[39m=\u001b[39m \u001b[39m1\u001b[39m\n\u001b[1;32m--> 126\u001b[0m \u001b[39mreturn\u001b[39;00m _bootstrap\u001b[39m.\u001b[39;49m_gcd_import(name[level:], package, level)\n",
      "File \u001b[1;32m<frozen importlib._bootstrap>:1050\u001b[0m, in \u001b[0;36m_gcd_import\u001b[1;34m(name, package, level)\u001b[0m\n",
      "File \u001b[1;32m<frozen importlib._bootstrap>:1027\u001b[0m, in \u001b[0;36m_find_and_load\u001b[1;34m(name, import_)\u001b[0m\n",
      "File \u001b[1;32m<frozen importlib._bootstrap>:992\u001b[0m, in \u001b[0;36m_find_and_load_unlocked\u001b[1;34m(name, import_)\u001b[0m\n",
      "File \u001b[1;32m<frozen importlib._bootstrap>:241\u001b[0m, in \u001b[0;36m_call_with_frames_removed\u001b[1;34m(f, *args, **kwds)\u001b[0m\n",
      "File \u001b[1;32m<frozen importlib._bootstrap>:1050\u001b[0m, in \u001b[0;36m_gcd_import\u001b[1;34m(name, package, level)\u001b[0m\n",
      "File \u001b[1;32m<frozen importlib._bootstrap>:1027\u001b[0m, in \u001b[0;36m_find_and_load\u001b[1;34m(name, import_)\u001b[0m\n",
      "File \u001b[1;32m<frozen importlib._bootstrap>:1006\u001b[0m, in \u001b[0;36m_find_and_load_unlocked\u001b[1;34m(name, import_)\u001b[0m\n",
      "File \u001b[1;32m<frozen importlib._bootstrap>:688\u001b[0m, in \u001b[0;36m_load_unlocked\u001b[1;34m(spec)\u001b[0m\n",
      "File \u001b[1;32m<frozen importlib._bootstrap_external>:883\u001b[0m, in \u001b[0;36mexec_module\u001b[1;34m(self, module)\u001b[0m\n",
      "File \u001b[1;32m<frozen importlib._bootstrap>:241\u001b[0m, in \u001b[0;36m_call_with_frames_removed\u001b[1;34m(f, *args, **kwds)\u001b[0m\n",
      "File \u001b[1;32m~\\AppData\\Roaming\\Python\\Python310\\site-packages\\matplotlib_inline\\__init__.py:1\u001b[0m\n\u001b[1;32m----> 1\u001b[0m \u001b[39mfrom\u001b[39;00m\u001b[39m \u001b[39m\u001b[39m.\u001b[39;00m\u001b[39m \u001b[39m\u001b[39mimport\u001b[39;00m backend_inline, config  \u001b[39m# noqa\u001b[39;00m\n\u001b[0;32m      3\u001b[0m __version__ \u001b[39m=\u001b[39m \u001b[39m\"\u001b[39m\u001b[39m0.2.1\u001b[39m\u001b[39m\"\u001b[39m\n\u001b[0;32m      5\u001b[0m \u001b[39m# we can't ''.join(...) otherwise finding the version number at build time requires\u001b[39;00m\n\u001b[0;32m      6\u001b[0m \u001b[39m# import which introduces IPython and matplotlib at build time, and thus circular\u001b[39;00m\n\u001b[0;32m      7\u001b[0m \u001b[39m# dependencies.\u001b[39;00m\n",
      "File \u001b[1;32m~\\AppData\\Roaming\\Python\\Python310\\site-packages\\matplotlib_inline\\backend_inline.py:236\u001b[0m\n\u001b[0;32m    231\u001b[0m                 ip\u001b[39m.\u001b[39mevents\u001b[39m.\u001b[39munregister(\u001b[39m\"\u001b[39m\u001b[39mpost_run_cell\u001b[39m\u001b[39m\"\u001b[39m, configure_once)\n\u001b[0;32m    233\u001b[0m             ip\u001b[39m.\u001b[39mevents\u001b[39m.\u001b[39mregister(\u001b[39m\"\u001b[39m\u001b[39mpost_run_cell\u001b[39m\u001b[39m\"\u001b[39m, configure_once)\n\u001b[1;32m--> 236\u001b[0m _enable_matplotlib_integration()\n\u001b[0;32m    239\u001b[0m \u001b[39mdef\u001b[39;00m\u001b[39m \u001b[39m\u001b[39m_fetch_figure_metadata\u001b[39m(fig):\n\u001b[0;32m    240\u001b[0m \u001b[39m    \u001b[39m\u001b[39m\"\"\"Get some metadata to help with displaying a figure.\"\"\"\u001b[39;00m\n",
      "File \u001b[1;32m~\\AppData\\Roaming\\Python\\Python310\\site-packages\\matplotlib_inline\\backend_inline.py:218\u001b[0m, in \u001b[0;36m_enable_matplotlib_integration\u001b[1;34m()\u001b[0m\n\u001b[0;32m    216\u001b[0m     backend \u001b[39m=\u001b[39m matplotlib\u001b[39m.\u001b[39mget_backend(auto_select\u001b[39m=\u001b[39m\u001b[39mFalse\u001b[39;00m)\n\u001b[0;32m    217\u001b[0m \u001b[39melse\u001b[39;00m:\n\u001b[1;32m--> 218\u001b[0m     backend \u001b[39m=\u001b[39m matplotlib\u001b[39m.\u001b[39;49mrcParams\u001b[39m.\u001b[39;49m_get(\u001b[39m\"\u001b[39m\u001b[39mbackend\u001b[39m\u001b[39m\"\u001b[39m)\n\u001b[0;32m    220\u001b[0m \u001b[39mif\u001b[39;00m ip \u001b[39mand\u001b[39;00m backend \u001b[39min\u001b[39;00m (\u001b[39m\"\u001b[39m\u001b[39minline\u001b[39m\u001b[39m\"\u001b[39m, \u001b[39m\"\u001b[39m\u001b[39mmodule://matplotlib_inline.backend_inline\u001b[39m\u001b[39m\"\u001b[39m):\n\u001b[0;32m    221\u001b[0m     \u001b[39mfrom\u001b[39;00m\u001b[39m \u001b[39m\u001b[39mIPython\u001b[39;00m\u001b[39m.\u001b[39;00m\u001b[39mcore\u001b[39;00m\u001b[39m.\u001b[39;00m\u001b[39mpylabtools\u001b[39;00m\u001b[39m \u001b[39m\u001b[39mimport\u001b[39;00m activate_matplotlib\n",
      "\u001b[1;31mAttributeError\u001b[0m: 'RcParams' object has no attribute '_get'"
     ]
    }
   ],
   "source": [
    "x = [point[0] for point in mean_positions]\n",
    "y = [-point[1] for point in mean_positions] # because of how pygame handles position\n",
    "plt.scatter(x, y)\n",
    "plt.show()"
   ]
  },
  {
   "cell_type": "code",
   "execution_count": null,
   "id": "9c750397",
   "metadata": {},
   "outputs": [],
   "source": [
    "x2 = [point[0] for point in mean_positions2]\n",
    "y2 = [-point[1] for point in mean_positions2]\n",
    "plt.scatter(x2, y2, color='red')\n",
    "plt.show()"
   ]
  },
  {
   "cell_type": "code",
   "execution_count": null,
   "id": "dbaf3ef8",
   "metadata": {},
   "outputs": [],
   "source": [
    "x3 = [point[0] for point in mean_positions3]\n",
    "y3 = [-point[1] for point in mean_positions3]\n",
    "plt.scatter(x3, y3, color='orange')\n",
    "plt.show()"
   ]
  },
  {
   "cell_type": "code",
   "execution_count": null,
   "id": "b7e378cb",
   "metadata": {},
   "outputs": [],
   "source": [
    "x4 = [point[0] for point in mean_positions4]\n",
    "y4 = [-point[1] for point in mean_positions4]\n",
    "plt.scatter(x4, y4, color='black')\n",
    "plt.show()"
   ]
  },
  {
   "cell_type": "markdown",
   "id": "60915630",
   "metadata": {},
   "source": [
    "And this is about what should be expected if you have watched the two algorithms play. The PPO-trained model is very jittery and can be sometimes seen spinning in random loops. The SAC-trained model is smooth as butter."
   ]
  },
  {
   "cell_type": "code",
   "execution_count": null,
   "id": "640fdae4",
   "metadata": {},
   "outputs": [],
   "source": [
    "ep_inf_p = ppo_res[1]\n",
    "ep_inf_s = sac_res[1]\n",
    "\n",
    "avg_len_p  = 0.0\n",
    "avg_len_s = 0.0\n",
    "\n",
    "for episode in ep_inf_p:\n",
    "    avg_len_p += len(episode)\n",
    "avg_len_p /= len(ep_inf_p)\n",
    "\n",
    "for episode in ep_inf_s:\n",
    "    avg_len_s += len(episode)\n",
    "avg_len_s /= len(ep_inf_s)\n",
    "\n",
    "print(f\"Average length of PPO episode: {avg_len_p:.2f} | Average length of SAC episode: {avg_len_s:.2f}\")"
   ]
  },
  {
   "cell_type": "markdown",
   "id": "8b27f4d8",
   "metadata": {},
   "source": [
    "To be perfectly honest, this one surprised me. I was aware that the SAC trained race car accelerates oddly (an artifact of the way the warmup policy runs, since I didn't want to make it too good and get docked marks for a scripted policy) but I thought the disgusting behaviour of the PPO car would outweigh that. Turns out though, I'm seeing the PPO car about 200 steps faster."
   ]
  },
  {
   "cell_type": "code",
   "execution_count": null,
   "id": "4da97e03",
   "metadata": {},
   "outputs": [],
   "source": [
    "ep_inf_p = ppo_res[1]\n",
    "ep_inf_s = sac_res[1]\n",
    "\n",
    "avg_rew_p  = 0.0\n",
    "avg_rew_s = 0.0\n",
    "\n",
    "for episode in ep_inf_p:\n",
    "    avg_rew_p += episode[-1]['episode_reward']\n",
    "avg_rew_p /= len(ep_inf_p)\n",
    "\n",
    "for episode in ep_inf_s:\n",
    "    avg_rew_s += episode[-1]['episode_reward']\n",
    "avg_rew_s /= len(ep_inf_s)\n",
    "\n",
    "print(f\"Average PPO episode reward: {avg_rew_p:.2f} | Average SAC episode reward: {avg_rew_s:.2f}\")"
   ]
  },
  {
   "cell_type": "markdown",
   "id": "1619fcf4",
   "metadata": {},
   "source": [
    "SAC beats it out on the results I have, but I suspect there is enough variance enough that they are functionally equivalent. 2440.90 compared to 2441.26 is less than a 0.5 unit reward difference."
   ]
  },
  {
   "cell_type": "code",
   "execution_count": null,
   "id": "c62f027b",
   "metadata": {},
   "outputs": [],
   "source": [
    "ep_inf_p = ppo_res[1]\n",
    "ep_inf_s = sac_res[1]\n",
    "\n",
    "# Find the maximum number of steps among all episodes\n",
    "max_steps_p = max(len(ep) for ep in ep_inf_p)\n",
    "max_steps_s = max(len(ep) for ep in ep_inf_s)\n",
    "\n",
    "mean_speeds = []\n",
    "for step_idx in range(max_steps_p):\n",
    "    sum_speed = 0.0\n",
    "    count = 0\n",
    "\n",
    "    for ep in ep_inf_p:\n",
    "        if step_idx < len(ep):\n",
    "            stepinfo = ep[step_idx]\n",
    "            try:\n",
    "                speed = stepinfo['car_speed']\n",
    "                sum_speed += speed\n",
    "                count += 1\n",
    "            except KeyError:\n",
    "                pass\n",
    "\n",
    "    if count > 0:\n",
    "        mean_speeds.append(sum_speed / count)\n",
    "    else:\n",
    "        mean_speeds.append(None)  # or 0, depending on your needs\n",
    "\n",
    "mean_speeds2 = []\n",
    "for step_idx in range(max_steps_s):\n",
    "    sum_speed = 0.0\n",
    "    count = 0\n",
    "\n",
    "    for ep in ep_inf_s:\n",
    "        if step_idx < len(ep):\n",
    "            stepinfo = ep[step_idx]\n",
    "            try:\n",
    "                speed = stepinfo['car_speed']\n",
    "                sum_speed += speed\n",
    "                count += 1\n",
    "            except KeyError:\n",
    "                pass\n",
    "\n",
    "    if count > 0:\n",
    "        mean_speeds2.append(sum_speed / count)\n",
    "    else:\n",
    "        mean_speeds2.append(None)  # or 0, depending on your needs\n",
    "print(mean_speeds)"
   ]
  },
  {
   "cell_type": "code",
   "execution_count": null,
   "id": "bd334ca3",
   "metadata": {},
   "outputs": [],
   "source": [
    "plt.plot(mean_speeds, color='blue')\n",
    "plt.plot(mean_speeds2, color='red')\n",
    "plt.show()"
   ]
  },
  {
   "cell_type": "markdown",
   "id": "bb09446d",
   "metadata": {},
   "source": [
    "This graph is a little interesting, in just how drastically it varies. The PPO model has wild differences and downspikes in it's speed value, whereas the SAC trained model smoothly accelerates towards the maximum, and in fact never actually reaches it. The PPO model does finish faster on average, and so the graph doesn't reach all the way. In fact, the average PPO episode ends about 200 timesteps faster, so on some level the downspikes (at past 200) can be attributed to noise."
   ]
  }
 ],
 "metadata": {
  "kernelspec": {
   "display_name": "Python 3.10.9 64-bit",
   "language": "python",
   "name": "python3"
  },
  "language_info": {
   "codemirror_mode": {
    "name": "ipython",
    "version": 3
   },
   "file_extension": ".py",
   "mimetype": "text/x-python",
   "name": "python",
   "nbconvert_exporter": "python",
   "pygments_lexer": "ipython3",
   "version": "3.10.9"
  },
  "vscode": {
   "interpreter": {
    "hash": "c4b9ef2282201bdb5ec2d2af0097d77838fa72e15ac90061d4601a79f33f61c1"
   }
  }
 },
 "nbformat": 4,
 "nbformat_minor": 5
}
