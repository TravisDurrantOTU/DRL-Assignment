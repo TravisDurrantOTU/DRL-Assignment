{
 "cells": [
  {
   "cell_type": "markdown",
   "id": "574cd26b",
   "metadata": {},
   "source": [
    "### Target Game Analysis\n",
    "\n",
    "What follows will be an analysis of peformance, training, and various other metrics with regards to the target game environment.\n",
    "\n",
    "Note that the models we will be speaking of have already been trained."
   ]
  },
  {
   "cell_type": "code",
   "execution_count": 1,
   "id": "11ec2baf",
   "metadata": {},
   "outputs": [
    {
     "name": "stdout",
     "output_type": "stream",
     "text": [
      "c:\\Users\\karat\\Documents\\topics_in_cs1\\DRL-Assignment\\notebooks\n"
     ]
    }
   ],
   "source": [
    "import sys, os\n",
    "print(os.getcwd())"
   ]
  },
  {
   "cell_type": "code",
   "execution_count": 2,
   "id": "ef589a0f",
   "metadata": {},
   "outputs": [
    {
     "name": "stderr",
     "output_type": "stream",
     "text": [
      "c:\\Users\\karat\\AppData\\Local\\Programs\\Python\\Python310\\lib\\site-packages\\torch\\utils\\_pytree.py:185: FutureWarning: optree is installed but the version is too old to support PyTorch Dynamo in C++ pytree. C++ pytree support is disabled. Please consider upgrading optree using `python3 -m pip install --upgrade 'optree>=0.13.0'`.\n",
      "  warnings.warn(\n"
     ]
    },
    {
     "name": "stdout",
     "output_type": "stream",
     "text": [
      "[2025-10-26 20:14:31] MultiLogger Initialized\n"
     ]
    }
   ],
   "source": [
    "# Importing relevant libraries\n",
    "import sys, os\n",
    "import matplotlib.pyplot as plt\n",
    "\n",
    "racing_dir = os.path.abspath(os.path.join(os.getcwd(), \"..\", \"envs\", \"racing_game\"))\n",
    "target_dir = os.path.abspath(os.path.join(os.getcwd(), \"..\", \"envs\", \"target_game\"))\n",
    "sys.path.append(racing_dir)\n",
    "from racing_env import RacingEnv\n",
    "sys.path.append(target_dir)\n",
    "from target_env import TargetEnv\n",
    "\n",
    "train_dir = os.path.abspath(os.path.join(os.getcwd(), '..', 'src'))\n",
    "sys.path.append(train_dir)\n",
    "from test_models import SACTester, PPOTester, DDPGTester, A2CTester"
   ]
  },
  {
   "cell_type": "code",
   "execution_count": 3,
   "id": "1b853348",
   "metadata": {},
   "outputs": [],
   "source": [
    "# Creating needed objects\n",
    "tenv = TargetEnv()\n",
    "s = SACTester('pretrained_SAC_target.pt', tenv)\n",
    "p = PPOTester('pretrained_PPO_target.pt', tenv)\n",
    "d = DDPGTester('pretrained_DDPG_target.pt', tenv)\n",
    "a = A2CTester('pretrained_A2C_target.pt', tenv)"
   ]
  },
  {
   "cell_type": "markdown",
   "id": "ef0c0f17",
   "metadata": {},
   "source": [
    "Unfortunately, a jupyter notebook doesn't seem to be able to actually render pygame. We'll settle for collecting data on how the agents play, and you can observe them playing elsewhere. Note that this script takes an absolutely ungodly amount of time to run because jupyter notebooks suck, so we're sticking to ten episodes and noting that this means data may be subject to more noise."
   ]
  },
  {
   "cell_type": "code",
   "execution_count": 4,
   "id": "20971ecf",
   "metadata": {},
   "outputs": [],
   "source": [
    "ppo_res = p.test(n_episodes=10, visual=False)\n",
    "sac_res = s.test(n_episodes=10, visual=False)\n",
    "ddpg_res = d.test(n_episodes=10, visual=False)\n",
    "a2c_res = a.test(n_episodes=10, visual=False)"
   ]
  },
  {
   "cell_type": "code",
   "execution_count": 5,
   "id": "c1a6cb7f",
   "metadata": {},
   "outputs": [],
   "source": [
    "#print(ppo_res)"
   ]
  },
  {
   "cell_type": "code",
   "execution_count": 6,
   "id": "02e820c8",
   "metadata": {},
   "outputs": [],
   "source": [
    "episode_infos = ppo_res[1]\n",
    "\n",
    "# Find the maximum number of steps among all episodes\n",
    "max_steps = max(len(ep) for ep in episode_infos)\n",
    "\n",
    "mean_positions = []\n",
    "for step_idx in range(max_steps):\n",
    "    sum_pos = [0.0, 0.0]\n",
    "    count = 0\n",
    "\n",
    "    for ep in episode_infos:\n",
    "        if step_idx < len(ep):\n",
    "            stepinfo = ep[step_idx]\n",
    "            try:\n",
    "                position = stepinfo['agent_position']\n",
    "                sum_pos[0] += position[0]\n",
    "                sum_pos[1] += position[1]\n",
    "                count += 1\n",
    "            except KeyError:\n",
    "                pass\n",
    "\n",
    "    if count > 0:\n",
    "        mean_positions.append([sum_pos[0] / count, sum_pos[1] / count])\n",
    "    else:\n",
    "        mean_positions.append([None, None])  # or skip, depending on your needs\n",
    "\n",
    "# print(mean_positions)"
   ]
  },
  {
   "cell_type": "code",
   "execution_count": 7,
   "id": "0c3acaac",
   "metadata": {},
   "outputs": [],
   "source": [
    "episode_infos = sac_res[1]\n",
    "\n",
    "# Find the maximum number of steps among all episodes\n",
    "max_steps = max(len(ep) for ep in episode_infos)\n",
    "\n",
    "mean_positions2 = []\n",
    "for step_idx in range(max_steps):\n",
    "    sum_pos = [0.0, 0.0]\n",
    "    count = 0\n",
    "\n",
    "    for ep in episode_infos:\n",
    "        if step_idx < len(ep):\n",
    "            stepinfo = ep[step_idx]\n",
    "            try:\n",
    "                position = stepinfo['agent_position']\n",
    "                sum_pos[0] += position[0]\n",
    "                sum_pos[1] += position[1]\n",
    "                count += 1\n",
    "            except KeyError:\n",
    "                pass\n",
    "\n",
    "    if count > 0:\n",
    "        mean_positions2.append([sum_pos[0] / count, sum_pos[1] / count])\n",
    "    else:\n",
    "        mean_positions2.append([None, None])  # or skip, depending on your needs\n",
    "\n",
    "#print(mean_positions2)\n"
   ]
  },
  {
   "cell_type": "code",
   "execution_count": 8,
   "id": "3fc76730",
   "metadata": {},
   "outputs": [],
   "source": [
    "episode_infos = ddpg_res[1]\n",
    "\n",
    "# Find the maximum number of steps among all episodes\n",
    "max_steps = max(len(ep) for ep in episode_infos)\n",
    "\n",
    "mean_positions3 = []\n",
    "for step_idx in range(max_steps):\n",
    "    sum_pos = [0.0, 0.0]\n",
    "    count = 0\n",
    "\n",
    "    for ep in episode_infos:\n",
    "        if step_idx < len(ep):\n",
    "            stepinfo = ep[step_idx]\n",
    "            try:\n",
    "                position = stepinfo['agent_position']\n",
    "                sum_pos[0] += position[0]\n",
    "                sum_pos[1] += position[1]\n",
    "                count += 1\n",
    "            except KeyError:\n",
    "                pass\n",
    "\n",
    "    if count > 0:\n",
    "        mean_positions3.append([sum_pos[0] / count, sum_pos[1] / count])\n",
    "    else:\n",
    "        mean_positions3.append([None, None])  # or skip, depending on your needs\n",
    "\n",
    "#print(mean_positions2)"
   ]
  },
  {
   "cell_type": "code",
   "execution_count": 9,
   "id": "eef42b16",
   "metadata": {},
   "outputs": [],
   "source": [
    "episode_infos = a2c_res[1]\n",
    "\n",
    "# Find the maximum number of steps among all episodes\n",
    "max_steps = max(len(ep) for ep in episode_infos)\n",
    "\n",
    "mean_positions4 = []\n",
    "for step_idx in range(max_steps):\n",
    "    sum_pos = [0.0, 0.0]\n",
    "    count = 0\n",
    "\n",
    "    for ep in episode_infos:\n",
    "        if step_idx < len(ep):\n",
    "            stepinfo = ep[step_idx]\n",
    "            try:\n",
    "                position = stepinfo['agent_position']\n",
    "                sum_pos[0] += position[0]\n",
    "                sum_pos[1] += position[1]\n",
    "                count += 1\n",
    "            except KeyError:\n",
    "                pass\n",
    "\n",
    "    if count > 0:\n",
    "        mean_positions4.append([sum_pos[0] / count, sum_pos[1] / count])\n",
    "    else:\n",
    "        mean_positions4.append([None, None])  # or skip, depending on your needs\n",
    "\n",
    "#print(mean_positions2)"
   ]
  },
  {
   "cell_type": "code",
   "execution_count": 10,
   "id": "60f2d04e",
   "metadata": {},
   "outputs": [
    {
     "data": {
      "image/png": "[encoded data removed]",
      "text/plain": [
       "<Figure size 640x480 with 1 Axes>"
      ]
     },
     "metadata": {},
     "output_type": "display_data"
    }
   ],
   "source": [
    "x = [point[0] for point in mean_positions]\n",
    "y = [-point[1] for point in mean_positions] # because of how pygame handles position\n",
    "plt.scatter(x, y)\n",
    "plt.show()"
   ]
  },
  {
   "cell_type": "code",
   "execution_count": 11,
   "id": "9c750397",
   "metadata": {},
   "outputs": [
    {
     "data": {
      "image/png": "[encoded data removed]",
      "text/plain": [
       "<Figure size 640x480 with 1 Axes>"
      ]
     },
     "metadata": {},
     "output_type": "display_data"
    }
   ],
   "source": [
    "x2 = [point[0] for point in mean_positions2]\n",
    "y2 = [-point[1] for point in mean_positions2]\n",
    "plt.scatter(x2, y2, color='red')\n",
    "plt.show()"
   ]
  },
  {
   "cell_type": "code",
   "execution_count": 12,
   "id": "dbaf3ef8",
   "metadata": {},
   "outputs": [
    {
     "data": {
      "image/png": "[encoded data removed]",
      "text/plain": [
       "<Figure size 640x480 with 1 Axes>"
      ]
     },
     "metadata": {},
     "output_type": "display_data"
    }
   ],
   "source": [
    "x3 = [point[0] for point in mean_positions3]\n",
    "y3 = [-point[1] for point in mean_positions3]\n",
    "plt.scatter(x3, y3, color='orange')\n",
    "plt.show()"
   ]
  },
  {
   "cell_type": "code",
   "execution_count": 13,
   "id": "b7e378cb",
   "metadata": {},
   "outputs": [
    {
     "data": {
      "image/png": "[encoded data removed]",
      "text/plain": [
       "<Figure size 640x480 with 1 Axes>"
      ]
     },
     "metadata": {},
     "output_type": "display_data"
    }
   ],
   "source": [
    "x4 = [point[0] for point in mean_positions4]\n",
    "y4 = [-point[1] for point in mean_positions4]\n",
    "plt.scatter(x4, y4, color='black')\n",
    "plt.show()"
   ]
  },
  {
   "cell_type": "markdown",
   "id": "60915630",
   "metadata": {},
   "source": [
    "Admittedly I plotted these because I didn't even need to adapt anything from the other notebook, they're less useful than the mean position plots there. Still, it does provide a relatively good snapshot of what's going on. The A2C model, as usual, does terribly. SAC and DDPG models find very similar lines, but SAC is just a tidbit more optimized. Then the PPO model is just kind of okay. It has a weird spiral, but it's not too bad."
   ]
  },
  {
   "cell_type": "code",
   "execution_count": 14,
   "id": "640fdae4",
   "metadata": {},
   "outputs": [
    {
     "name": "stdout",
     "output_type": "stream",
     "text": [
      "Average length of PPO episode: 390.00 | Average length of SAC episode: 470.00\n",
      "Average length of DDPG episode: 457.00 | Average length of A2C episode: 2000.00\n"
     ]
    }
   ],
   "source": [
    "ep_inf_p = ppo_res[1]\n",
    "ep_inf_s = sac_res[1]\n",
    "ep_inf_d = ddpg_res[1]\n",
    "ep_inf_a = a2c_res[1]\n",
    "\n",
    "avg_len_p  = 0.0\n",
    "avg_len_s = 0.0\n",
    "avg_len_d = 0.0\n",
    "avg_len_a = 0.0\n",
    "\n",
    "for episode in ep_inf_p:\n",
    "    avg_len_p += len(episode)\n",
    "avg_len_p /= len(ep_inf_p)\n",
    "\n",
    "for episode in ep_inf_s:\n",
    "    avg_len_s += len(episode)\n",
    "avg_len_s /= len(ep_inf_s)\n",
    "\n",
    "for episode in ep_inf_d:\n",
    "    avg_len_d += len(episode)\n",
    "avg_len_d /= len(ep_inf_d)\n",
    "\n",
    "for episode in ep_inf_a:\n",
    "    avg_len_a += len(episode)\n",
    "avg_len_a /= len(ep_inf_a)\n",
    "\n",
    "print(f\"Average length of PPO episode: {avg_len_p:.2f} | Average length of SAC episode: {avg_len_s:.2f}\\n\"\n",
    "      f\"Average length of DDPG episode: {avg_len_d:.2f} | Average length of A2C episode: {avg_len_a:.2f}\")"
   ]
  },
  {
   "cell_type": "markdown",
   "id": "8b27f4d8",
   "metadata": {},
   "source": [
    "As with the racing game. the PPO which looks like it has a terrible line is actually somehow doing the best. A2C is clearly not even finishing their episodes, since each goes to the max."
   ]
  },
  {
   "cell_type": "code",
   "execution_count": 15,
   "id": "d7f134ef",
   "metadata": {},
   "outputs": [
    {
     "name": "stdout",
     "output_type": "stream",
     "text": [
      "Total obstacles hit over PPO episodes: 0.00 | Total obstacles hit over SAC episodes: 0.00\n",
      "Total obstalces hit over DDPG episodes: 0.00 | Total obstacles hit over A2C episodes: 0.00\n"
     ]
    }
   ],
   "source": [
    "ep_inf_p = ppo_res[1]\n",
    "ep_inf_s = sac_res[1]\n",
    "ep_inf_d = ddpg_res[1]\n",
    "ep_inf_a = a2c_res[1]\n",
    "\n",
    "crashes_p  = 0\n",
    "crashes_s = 0\n",
    "crashes_d = 0\n",
    "crashes_a = 0\n",
    "\n",
    "for episode in ep_inf_p:\n",
    "    crashes_p += episode[-1]['obstacles_hit']\n",
    "for episode in ep_inf_s:\n",
    "    crashes_s += episode[-1]['obstacles_hit']\n",
    "for episode in ep_inf_d:\n",
    "    crashes_d += episode[-1]['obstacles_hit']\n",
    "for episode in ep_inf_a:\n",
    "    crashes_a += episode[-1]['obstacles_hit']\n",
    "print(f\"Total obstacles hit over PPO episodes: {crashes_p:.2f} | Total obstacles hit over SAC episodes: {crashes_s:.2f}\\n\"\n",
    "      f\"Total obstalces hit over DDPG episodes: {crashes_d:.2f} | Total obstacles hit over A2C episodes: {crashes_a:.2f}\")"
   ]
  },
  {
   "cell_type": "markdown",
   "id": "d7129736",
   "metadata": {},
   "source": [
    "No shenanigans are unearthed here. PPO is just actually winning the fastest, and everyone is doing a good job of avoiding obstacles. Possibly too good in the case of A2C, since it clearly could stand to be taking a few more risks. Might be an indicator of the rewards being improperly tuned for A2C."
   ]
  },
  {
   "cell_type": "code",
   "execution_count": 16,
   "id": "c62f027b",
   "metadata": {},
   "outputs": [],
   "source": [
    "ep_inf_p = ppo_res[1]\n",
    "ep_inf_s = sac_res[1]\n",
    "ep_inf_d = ddpg_res[1]\n",
    "ep_inf_a = a2c_res[1]\n",
    "\n",
    "# Find the maximum number of steps among all episodes\n",
    "max_steps_p = max(len(ep) for ep in ep_inf_p)\n",
    "max_steps_s = max(len(ep) for ep in ep_inf_s)\n",
    "max_steps_d = max(len(ep) for ep in ep_inf_d)\n",
    "max_steps_a = max(len(ep) for ep in ep_inf_a)\n",
    "\n",
    "mean_speeds = []\n",
    "for step_idx in range(max_steps_p):\n",
    "    sum_speed = 0.0\n",
    "    count = 0\n",
    "\n",
    "    for ep in ep_inf_p:\n",
    "        if step_idx < len(ep):\n",
    "            stepinfo = ep[step_idx]\n",
    "            try:\n",
    "                speed = stepinfo['agent_speed']\n",
    "                sum_speed += speed\n",
    "                count += 1\n",
    "            except KeyError:\n",
    "                pass\n",
    "\n",
    "    if count > 0:\n",
    "        mean_speeds.append(sum_speed / count)\n",
    "    else:\n",
    "        mean_speeds.append(None)\n",
    "\n",
    "mean_speeds2 = []\n",
    "for step_idx in range(max_steps_s):\n",
    "    sum_speed = 0.0\n",
    "    count = 0\n",
    "\n",
    "    for ep in ep_inf_s:\n",
    "        if step_idx < len(ep):\n",
    "            stepinfo = ep[step_idx]\n",
    "            try:\n",
    "                speed = stepinfo['agent_speed']\n",
    "                sum_speed += speed\n",
    "                count += 1\n",
    "            except KeyError:\n",
    "                pass\n",
    "\n",
    "    if count > 0:\n",
    "        mean_speeds2.append(sum_speed / count)\n",
    "    else:\n",
    "        mean_speeds2.append(None)\n",
    "\n",
    "mean_speeds3 = []\n",
    "for step_idx in range(max_steps_d):\n",
    "    sum_speed = 0.0\n",
    "    count = 0\n",
    "\n",
    "    for ep in ep_inf_d:\n",
    "        if step_idx < len(ep):\n",
    "            stepinfo = ep[step_idx]\n",
    "            try:\n",
    "                speed = stepinfo['agent_speed']\n",
    "                sum_speed += speed\n",
    "                count += 1\n",
    "            except KeyError:\n",
    "                pass\n",
    "\n",
    "    if count > 0:\n",
    "        mean_speeds3.append(sum_speed / count)\n",
    "    else:\n",
    "        mean_speeds3.append(None)\n",
    "\n",
    "mean_speeds4 = []\n",
    "for step_idx in range(max_steps_a):\n",
    "    sum_speed = 0.0\n",
    "    count = 0\n",
    "\n",
    "    for ep in ep_inf_a:\n",
    "        if step_idx < len(ep):\n",
    "            stepinfo = ep[step_idx]\n",
    "            try:\n",
    "                speed = stepinfo['agent_speed']\n",
    "                sum_speed += speed\n",
    "                count += 1\n",
    "            except KeyError:\n",
    "                pass\n",
    "\n",
    "    if count > 0:\n",
    "        mean_speeds4.append(sum_speed / count)\n",
    "    else:\n",
    "        mean_speeds4.append(None)\n",
    "#print(mean_speeds)"
   ]
  },
  {
   "cell_type": "code",
   "execution_count": 17,
   "id": "bd334ca3",
   "metadata": {},
   "outputs": [
    {
     "data": {
      "image/png": "[encoded data removed]",
      "text/plain": [
       "<Figure size 640x480 with 1 Axes>"
      ]
     },
     "metadata": {},
     "output_type": "display_data"
    }
   ],
   "source": [
    "plt.plot(mean_speeds, color='blue')\n",
    "plt.plot(mean_speeds2, color='red')\n",
    "plt.plot(mean_speeds3, color='orange')\n",
    "plt.plot(mean_speeds4, color='black')\n",
    "plt.show()"
   ]
  },
  {
   "cell_type": "markdown",
   "id": "bb09446d",
   "metadata": {},
   "source": [
    "...so that explains it. The A2C model is permanently driving backwards. Other than that, I'm fairly happy with how the models are all accelerating to top speed at roughly the same pace. \n",
    "\n",
    "My final conclusion is that all of the models are roughly appropriate for this task. The largest challenges here were keeping the agents from getting stuck in local optima with the design of the reward function. It went through by far the most iterations. Agents would sit and do nothing (overpenalizing mistakes), then they would drive into the corner at top speed (so speed reward needed to turn into displacement reward), then they would collect a few targets and then stop (poorly calibrated target rewards). In the end the current reward function is much, much more complicated than the original one.\n",
    "\n",
    "More important thatn reward function though, again, is the length of training. That was the most important factor, and maybe the A2C models could perform well if given long enough to train. My empirical experience with the model leads me to doubt that, though, and that opinion is reinforced by my contemporaries."
   ]
  }
 ],
 "metadata": {
  "kernelspec": {
   "display_name": "Python 3",
   "language": "python",
   "name": "python3"
  },
  "language_info": {
   "codemirror_mode": {
    "name": "ipython",
    "version": 3
   },
   "file_extension": ".py",
   "mimetype": "text/x-python",
   "name": "python",
   "nbconvert_exporter": "python",
   "pygments_lexer": "ipython3",
   "version": "3.10.7"
  }
 },
 "nbformat": 4,
 "nbformat_minor": 5
}
